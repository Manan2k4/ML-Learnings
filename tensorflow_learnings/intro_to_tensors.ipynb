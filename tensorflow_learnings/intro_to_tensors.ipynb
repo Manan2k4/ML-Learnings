{
 "cells": [
  {
   "cell_type": "code",
   "execution_count": null,
   "id": "ca620720",
   "metadata": {},
   "outputs": [],
   "source": [
    "# to be started from: https://www.tensorflow.org/guide/tensor"
   ]
  }
 ],
 "metadata": {
  "language_info": {
   "name": "python"
  }
 },
 "nbformat": 4,
 "nbformat_minor": 5
}

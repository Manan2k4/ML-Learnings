{
 "cells": [
  {
   "cell_type": "markdown",
   "id": "904986f6",
   "metadata": {},
   "source": [
    "## Fitting an Elastic Net with a precomputed Gram Matrix and Weighted Samples"
   ]
  },
  {
   "cell_type": "code",
   "execution_count": null,
   "id": "e56d0274",
   "metadata": {},
   "outputs": [],
   "source": [
    "import numpy as np"
   ]
  }
 ],
 "metadata": {
  "kernelspec": {
   "display_name": "Python 3",
   "language": "python",
   "name": "python3"
  },
  "language_info": {
   "name": "python",
   "version": "3.13.3"
  }
 },
 "nbformat": 4,
 "nbformat_minor": 5
}
